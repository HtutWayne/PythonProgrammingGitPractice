{
 "cells": [
  {
   "cell_type": "markdown",
   "metadata": {
    "id": "bBSbIZTtW7q4"
   },
   "source": [
    "1) Write a Python program to create a dictionary that count the frequency of words in the string given in Q1.txt. Find the most frequent occured word."
   ]
  },
  {
   "cell_type": "code",
   "execution_count": 55,
   "metadata": {
    "id": "l6y53V9ZWzox"
   },
   "outputs": [
    {
     "name": "stdout",
     "output_type": "stream",
     "text": [
      "The most frequently occurring word is 'I' with a frequency of 4.\n"
     ]
    }
   ],
   "source": [
    "from collections import Counter\n",
    "\n",
    "with open('Q1.txt', 'r') as file:\n",
    "    text = file.read()\n",
    "    \n",
    "  \n",
    "words = text.split()\n",
    "\n",
    "word_freq = Counter(words)\n",
    "\n",
    "\n",
    "most_common_word, frequency = word_freq.most_common(1)[0]\n",
    "\n",
    "\n",
    "print(f\"The most frequently occurring word is '{most_common_word}' with a frequency of {frequency}.\")\n"
   ]
  },
  {
   "cell_type": "markdown",
   "metadata": {
    "id": "aQP7q021Xr9W"
   },
   "source": [
    "2) Write a Python program to read the name from Q2.txt and create email using domain 'parami.edu.mm' and save the results as dictionary : \n",
    "{'name': 'name@parami.edu.mm'}.\n",
    "Please take note that your email should not include space or any special characters and all charcters should be in lowercase. "
   ]
  },
  {
   "cell_type": "code",
   "execution_count": 45,
   "metadata": {
    "id": "2B2TGvQCXuR3"
   },
   "outputs": [
    {
     "name": "stdout",
     "output_type": "stream",
     "text": [
      "dechendorji: dechendorji@parami.edu.mm\n",
      "dekitshomo: dekitshomo@parami.edu.mm\n",
      "dorjitshering: dorjitshering@parami.edu.mm\n",
      "dorjiwangmo: dorjiwangmo@parami.edu.mm\n",
      "gemtsheringlepcha: gemtsheringlepcha@parami.edu.mm\n",
      "jigmedorji: jigmedorji@parami.edu.mm\n",
      "kinleycheki: kinleycheki@parami.edu.mm\n",
      "kinleywangmo: kinleywangmo@parami.edu.mm\n",
      "ngawangdemakarpo: ngawangdemakarpo@parami.edu.mm\n",
      "roshanchhetri: roshanchhetri@parami.edu.mm\n",
      "sonamtenzin: sonamtenzin@parami.edu.mm\n",
      "sonamtobgay: sonamtobgay@parami.edu.mm\n",
      "sonamyangden: sonamyangden@parami.edu.mm\n",
      "tandinom: tandinom@parami.edu.mm\n",
      "tandinwangchuk: tandinwangchuk@parami.edu.mm\n",
      "tashiom: tashiom@parami.edu.mm\n",
      "tendayzangmo: tendayzangmo@parami.edu.mm\n",
      "tsheringpem: tsheringpem@parami.edu.mm\n",
      "ugyenphurpa: ugyenphurpa@parami.edu.mm\n",
      "marmitt: marmitt@parami.edu.mm\n"
     ]
    }
   ],
   "source": [
    "email_dict = {}\n",
    "\n",
    "with open('Q2.txt', 'r') as file1:\n",
    "    namelines = file1.readlines()\n",
    "\n",
    "for line in namelines[1:]:\n",
    "    columns = line.strip().split(\",\")\n",
    "    names = columns[0].replace(\" \", \"\").lower()  # Remove spaces and make it lowercase\n",
    "    email = f\"{names}@parami.edu.mm\"\n",
    "    email_dict[names] = email\n",
    "\n",
    "for name, email in email_dict.items():\n",
    "    print(f\"{name}: {email}\")\n"
   ]
  }
 ],
 "metadata": {
  "colab": {
   "collapsed_sections": [],
   "provenance": []
  },
  "kernelspec": {
   "display_name": "Python 3 (ipykernel)",
   "language": "python",
   "name": "python3"
  },
  "language_info": {
   "codemirror_mode": {
    "name": "ipython",
    "version": 3
   },
   "file_extension": ".py",
   "mimetype": "text/x-python",
   "name": "python",
   "nbconvert_exporter": "python",
   "pygments_lexer": "ipython3",
   "version": "3.11.5"
  }
 },
 "nbformat": 4,
 "nbformat_minor": 4
}
